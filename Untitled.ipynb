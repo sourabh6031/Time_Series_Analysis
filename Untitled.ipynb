{
 "cells": [
  {
   "cell_type": "code",
   "execution_count": 1,
   "id": "28a553cf",
   "metadata": {},
   "outputs": [
    {
     "name": "stderr",
     "output_type": "stream",
     "text": [
      "C:\\Users\\SOURABH\\anaconda3\\lib\\site-packages\\pandas\\core\\computation\\expressions.py:21: UserWarning: Pandas requires version '2.8.4' or newer of 'numexpr' (version '2.8.1' currently installed).\n",
      "  from pandas.core.computation.check import NUMEXPR_INSTALLED\n",
      "C:\\Users\\SOURABH\\anaconda3\\lib\\site-packages\\pandas\\core\\arrays\\masked.py:60: UserWarning: Pandas requires version '1.3.6' or newer of 'bottleneck' (version '1.3.4' currently installed).\n",
      "  from pandas.core import (\n"
     ]
    }
   ],
   "source": [
    "import pandas as pd"
   ]
  },
  {
   "cell_type": "code",
   "execution_count": 2,
   "id": "2ac00c3e",
   "metadata": {},
   "outputs": [],
   "source": [
    "dates = ['2018-01-01', '2018-01-02', '2018-01-03', '2018-01-04', '2018-01-05', '2018-01-06', '2018-01-07', '2018-01-08', '2018-01-09', '2018-01-10', '2018-01-11', '2018-01-12', '2018-01-13', '2018-01-14', '2018-01-15', '2018-01-16', '2018-01-17', '2018-01-18', '2018-01-19', '2018-01-20', '2018-01-21', '2018-01-22', '2018-01-23', '2018-01-24', '2018-01-25', '2018-01-26', '2018-01-27', '2018-01-28', '2018-01-29', '2018-01-30', '2018-01-31', '2018-02-01', '2018-02-02', '2018-02-03', '2018-02-04', '2018-02-05', '2018-02-06', '2018-02-07', '2018-02-08', '2018-02-09', '2018-02-10', '2018-02-11', '2018-02-12', '2018-02-13', '2018-02-14', '2018-02-15', '2018-02-16', '2018-02-17', '2018-02-18', '2018-02-19', '2018-02-20', '2018-02-21', '2018-02-22', '2018-02-23', '2018-02-24', '2018-02-25', '2018-02-26', '2018-02-27', '2018-02-28', '2018-03-01', '2018-03-02', '2018-03-03', '2018-03-04', '2018-03-05', '2018-03-06', '2018-03-07', '2018-03-08', '2018-03-09', '2018-03-10', '2018-03-11', '2018-03-12', '2018-03-13', '2018-03-14', '2018-03-15', '2018-03-16', '2018-03-17', '2018-03-18', '2018-03-19', '2018-03-20', '2018-03-21', '2018-03-22', '2018-03-23', '2018-03-24', '2018-03-25', '2018-03-26', '2018-03-27', '2018-03-28', '2018-03-29', '2018-03-30', '2018-03-31', '2018-04-01', '2018-04-02', '2018-04-03', '2018-04-04', '2018-04-05', '2018-04-06', '2018-04-07', '2018-04-08', '2018-04-09', '2018-04-10', '2018-04-11', '2018-04-12', '2018-04-13', '2018-04-14', '2018-04-15', '2018-04-16', '2018-04-17', '2018-04-18', '2018-04-19', '2018-04-20', '2018-04-21', '2018-04-22', '2018-04-23', '2018-04-24', '2018-04-25', '2018-04-26', '2018-04-27', '2018-04-28', '2018-04-29', '2018-04-30', '2018-05-01', '2018-05-02', '2018-05-03', '2018-05-04', '2018-05-05', '2018-05-06', '2018-05-07', '2018-05-08', '2018-05-09', '2018-05-10', '2018-05-11', '2018-05-12', '2018-05-13', '2018-05-14', '2018-05-15', '2018-05-16', '2018-05-17', '2018-05-18', '2018-05-19', '2018-05-20', '2018-05-21', '2018-05-22', '2018-05-23', '2018-05-24', '2018-05-25', '2018-05-26', '2018-05-27', '2018-05-28', '2018-05-29', '2018-05-30', '2018-05-31', '2018-06-01', '2018-06-02', '2018-06-03', '2018-06-04', '2018-06-05', '2018-06-06', '2018-06-07', '2018-06-08', '2018-06-09', '2018-06-10', '2018-06-11', '2018-06-12', '2018-06-13', '2018-06-14', '2018-06-15', '2018-06-16', '2018-06-17', '2018-06-18', '2018-06-19', '2018-06-20', '2018-06-21', '2018-06-22', '2018-06-23', '2018-06-24', '2018-06-25', '2018-06-26', '2018-06-27', '2018-06-28', '2018-06-29', '2018-06-30', '2018-07-01', '2018-07-02', '2018-07-03', '2018-07-04', '2018-07-05', '2018-07-06', '2018-07-07', '2018-07-08', '2018-07-09', '2018-07-10', '2018-07-11', '2018-07-12', '2018-07-13', '2018-07-14', '2018-07-15', '2018-07-16', '2018-07-17', '2018-07-18', '2018-07-19', '2018-07-20', '2018-07-21', '2018-07-22', '2018-07-23', '2018-07-24', '2018-07-25', '2018-07-26', '2018-07-27', '2018-07-28', '2018-07-29', '2018-07-30', '2018-07-31', '2018-08-01', '2018-08-02', '2018-08-03', '2018-08-04', '2018-08-05', '2018-08-06', '2018-08-07', '2018-08-08', '2018-08-09', '2018-08-10', '2018-08-11', '2018-08-12', '2018-08-13', '2018-08-14', '2018-08-15', '2018-08-16', '2018-08-17', '2018-08-18', '2018-08-19', '2018-08-20', '2018-08-21', '2018-08-22', '2018-08-23', '2018-08-24', '2018-08-25', '2018-08-26', '2018-08-27', '2018-08-28', '2018-08-29', '2018-08-30', '2018-08-31', '2018-09-01', '2018-09-02', '2018-09-03', '2018-09-04', '2018-09-05', '2018-09-06', '2018-09-07', '2018-09-08', '2018-09-09', '2018-09-10', '2018-09-11', '2018-09-12', '2018-09-13', '2018-09-14', '2018-09-15', '2018-09-16', '2018-09-17', '2018-09-18', '2018-09-19', '2018-09-20', '2018-09-21', '2018-09-22', '2018-09-23', '2018-09-24', '2018-09-25', '2018-09-26', '2018-09-27', '2018-09-28', '2018-09-29', '2018-09-30', '2018-10-01', '2018-10-02', '2018-10-03', '2018-10-04', '2018-10-05', '2018-10-06', '2018-10-07', '2018-10-08', '2018-10-09', '2018-10-10', '2018-10-11', '2018-10-12', '2018-10-13', '2018-10-14', '2018-10-15', '2018-10-16', '2018-10-17', '2018-10-18', '2018-10-19', '2018-10-20', '2018-10-21', '2018-10-22', '2018-10-23', '2018-10-24', '2018-10-25', '2018-10-26', '2018-10-27', '2018-10-28', '2018-10-29', '2018-10-30', '2018-10-31', '2018-11-01', '2018-11-02', '2018-11-03', '2018-11-04', '2018-11-05', '2018-11-06', '2018-11-07', '2018-11-08', '2018-11-09', '2018-11-10', '2018-11-11', '2018-11-12', '2018-11-13', '2018-11-14', '2018-11-15', '2018-11-16', '2018-11-17', '2018-11-18', '2018-11-19', '2018-11-20', '2018-11-21', '2018-11-22', '2018-11-23', '2018-11-24', '2018-11-25', '2018-11-26', '2018-11-27', '2018-11-28', '2018-11-29', '2018-11-30', '2018-12-01', '2018-12-02', '2018-12-03', '2018-12-04', '2018-12-05', '2018-12-06', '2018-12-07', '2018-12-08']\n",
    "units_sold = [147, 342, 380, 292, 114, 311, 339, 90, 446, 302, 149, 362, 165, 103, 90, 473, 24, 391, 472, 427, 294, 169, 116, 378, 62, 296, 33, 89, 485, 224, 404, 281, 137, 238, 381, 335, 121, 182, 6, 376, 46, 445, 353, 377, 61, 119, 245, 302, 49, 72, 350, 376, 254, 432, 80, 120, 151, 167, 44, 123, 390, 456, 410, 64, 155, 406, 6, 326, 199, 32, 24, 76, 174, 376, 325, 517, 255, 81, 70, 339, 395, 484, 408, 386, 362, 353, 207, 52, 435, 360, 430, 410, 491, 168, 378, 120, 308, 486, 67, 287, 258, 354, 319, 123, 35, 235, 304, 342, 407, 36, 257, 270, 1, 140, 456, 466, 6, 8, 446, 451, 44, 430, 431, 256, 470, 400, 231, 178, 435, 109, 405, 450, 375, 278, 136, 272, 444, 111, 109, 232, 285, 492, 162, 10, 86, 180, 302, 198, 463, 341, 351, 155, 47, 90, 202, 404, 52, 483, 510, 500, 413, 164, 496, 212, 162, 302, 103, 362, 16, 495, 181, 9, 63, 311, 424, 398, 170, 325, 236, 188, 396, 457, 106, 355, 299, 319, 308, 220, 253, 440, 373, 493, 475, 387, 376, 240, 184, 269, 406, 180, 374, 228, 378, 322, 380, 211, 309, 124, 37, 42, 367, 173, 252, 278, 518, 163, 102, 304, 197, 206, 266, 24, 134, 255, 453, 228, 139, 195, 395, 428, 414, 246, 299, 315, 321, 289, 35, 38, 314, 97, 77, 359, 299, 375, 410, 228, 223, 16, 454, 62, 96, 270, 65, 477, 392, 506, 333, 164, 46, 184, 149, 62, 387, 187, 358, 27, 328, 411, 201, 45, 231, 98, 237, 46, 391, 69, 452, 239, 267, 193, 486, 70, 8, 14, 299, 487, 412, 453, 112, 12, 279, 459, 20, 429, 86, 109, 132, 133, 403, 30, 169, 377, 486, 407, 306, 185, 457, 408, 280, 384, 119, 92, 40, 318, 120, 372, 44, 115, 214, 452, 41, 417, 102, 44, 1, 247, 178, 240, 80, 388, 209, 439, 345, 125, 243, 381, 377, 196, 504, 352, 322, 336]"
   ]
  },
  {
   "cell_type": "code",
   "execution_count": 6,
   "id": "37fa3421",
   "metadata": {},
   "outputs": [],
   "source": [
    "df = pd.DataFrame({'dates':dates,'units_sold':units_sold})"
   ]
  },
  {
   "cell_type": "code",
   "execution_count": 7,
   "id": "7b8b8d14",
   "metadata": {},
   "outputs": [
    {
     "data": {
      "text/html": [
       "<div>\n",
       "<style scoped>\n",
       "    .dataframe tbody tr th:only-of-type {\n",
       "        vertical-align: middle;\n",
       "    }\n",
       "\n",
       "    .dataframe tbody tr th {\n",
       "        vertical-align: top;\n",
       "    }\n",
       "\n",
       "    .dataframe thead th {\n",
       "        text-align: right;\n",
       "    }\n",
       "</style>\n",
       "<table border=\"1\" class=\"dataframe\">\n",
       "  <thead>\n",
       "    <tr style=\"text-align: right;\">\n",
       "      <th></th>\n",
       "      <th>dates</th>\n",
       "      <th>units_sold</th>\n",
       "    </tr>\n",
       "  </thead>\n",
       "  <tbody>\n",
       "    <tr>\n",
       "      <th>0</th>\n",
       "      <td>2018-01-01</td>\n",
       "      <td>147</td>\n",
       "    </tr>\n",
       "    <tr>\n",
       "      <th>1</th>\n",
       "      <td>2018-01-02</td>\n",
       "      <td>342</td>\n",
       "    </tr>\n",
       "    <tr>\n",
       "      <th>2</th>\n",
       "      <td>2018-01-03</td>\n",
       "      <td>380</td>\n",
       "    </tr>\n",
       "    <tr>\n",
       "      <th>3</th>\n",
       "      <td>2018-01-04</td>\n",
       "      <td>292</td>\n",
       "    </tr>\n",
       "    <tr>\n",
       "      <th>4</th>\n",
       "      <td>2018-01-05</td>\n",
       "      <td>114</td>\n",
       "    </tr>\n",
       "    <tr>\n",
       "      <th>...</th>\n",
       "      <td>...</td>\n",
       "      <td>...</td>\n",
       "    </tr>\n",
       "    <tr>\n",
       "      <th>337</th>\n",
       "      <td>2018-12-04</td>\n",
       "      <td>196</td>\n",
       "    </tr>\n",
       "    <tr>\n",
       "      <th>338</th>\n",
       "      <td>2018-12-05</td>\n",
       "      <td>504</td>\n",
       "    </tr>\n",
       "    <tr>\n",
       "      <th>339</th>\n",
       "      <td>2018-12-06</td>\n",
       "      <td>352</td>\n",
       "    </tr>\n",
       "    <tr>\n",
       "      <th>340</th>\n",
       "      <td>2018-12-07</td>\n",
       "      <td>322</td>\n",
       "    </tr>\n",
       "    <tr>\n",
       "      <th>341</th>\n",
       "      <td>2018-12-08</td>\n",
       "      <td>336</td>\n",
       "    </tr>\n",
       "  </tbody>\n",
       "</table>\n",
       "<p>342 rows × 2 columns</p>\n",
       "</div>"
      ],
      "text/plain": [
       "          dates  units_sold\n",
       "0    2018-01-01         147\n",
       "1    2018-01-02         342\n",
       "2    2018-01-03         380\n",
       "3    2018-01-04         292\n",
       "4    2018-01-05         114\n",
       "..          ...         ...\n",
       "337  2018-12-04         196\n",
       "338  2018-12-05         504\n",
       "339  2018-12-06         352\n",
       "340  2018-12-07         322\n",
       "341  2018-12-08         336\n",
       "\n",
       "[342 rows x 2 columns]"
      ]
     },
     "execution_count": 7,
     "metadata": {},
     "output_type": "execute_result"
    }
   ],
   "source": [
    "df"
   ]
  },
  {
   "cell_type": "code",
   "execution_count": 23,
   "id": "532e12f1",
   "metadata": {},
   "outputs": [],
   "source": [
    "df['dates'] = pd.to_datetime(df['dates'])\n",
    "\n",
    "#engineer a feature consisting of the number of month for each observation\n",
    "df['month'] = df['dates'].dt.month\n",
    "\n"
   ]
  },
  {
   "cell_type": "code",
   "execution_count": 24,
   "id": "bca23c4a",
   "metadata": {},
   "outputs": [
    {
     "data": {
      "text/html": [
       "<div>\n",
       "<style scoped>\n",
       "    .dataframe tbody tr th:only-of-type {\n",
       "        vertical-align: middle;\n",
       "    }\n",
       "\n",
       "    .dataframe tbody tr th {\n",
       "        vertical-align: top;\n",
       "    }\n",
       "\n",
       "    .dataframe thead th {\n",
       "        text-align: right;\n",
       "    }\n",
       "</style>\n",
       "<table border=\"1\" class=\"dataframe\">\n",
       "  <thead>\n",
       "    <tr style=\"text-align: right;\">\n",
       "      <th></th>\n",
       "      <th>dates</th>\n",
       "      <th>units_sold</th>\n",
       "      <th>month</th>\n",
       "      <th>average_sales</th>\n",
       "    </tr>\n",
       "  </thead>\n",
       "  <tbody>\n",
       "    <tr>\n",
       "      <th>0</th>\n",
       "      <td>2018-01-01</td>\n",
       "      <td>147</td>\n",
       "      <td>1</td>\n",
       "      <td>&lt;bound method Series.reset_index of month\\n01 ...</td>\n",
       "    </tr>\n",
       "    <tr>\n",
       "      <th>1</th>\n",
       "      <td>2018-01-02</td>\n",
       "      <td>342</td>\n",
       "      <td>1</td>\n",
       "      <td>&lt;bound method Series.reset_index of month\\n01 ...</td>\n",
       "    </tr>\n",
       "    <tr>\n",
       "      <th>2</th>\n",
       "      <td>2018-01-03</td>\n",
       "      <td>380</td>\n",
       "      <td>1</td>\n",
       "      <td>&lt;bound method Series.reset_index of month\\n01 ...</td>\n",
       "    </tr>\n",
       "    <tr>\n",
       "      <th>3</th>\n",
       "      <td>2018-01-04</td>\n",
       "      <td>292</td>\n",
       "      <td>1</td>\n",
       "      <td>&lt;bound method Series.reset_index of month\\n01 ...</td>\n",
       "    </tr>\n",
       "    <tr>\n",
       "      <th>4</th>\n",
       "      <td>2018-01-05</td>\n",
       "      <td>114</td>\n",
       "      <td>1</td>\n",
       "      <td>&lt;bound method Series.reset_index of month\\n01 ...</td>\n",
       "    </tr>\n",
       "    <tr>\n",
       "      <th>...</th>\n",
       "      <td>...</td>\n",
       "      <td>...</td>\n",
       "      <td>...</td>\n",
       "      <td>...</td>\n",
       "    </tr>\n",
       "    <tr>\n",
       "      <th>337</th>\n",
       "      <td>2018-12-04</td>\n",
       "      <td>196</td>\n",
       "      <td>12</td>\n",
       "      <td>&lt;bound method Series.reset_index of month\\n01 ...</td>\n",
       "    </tr>\n",
       "    <tr>\n",
       "      <th>338</th>\n",
       "      <td>2018-12-05</td>\n",
       "      <td>504</td>\n",
       "      <td>12</td>\n",
       "      <td>&lt;bound method Series.reset_index of month\\n01 ...</td>\n",
       "    </tr>\n",
       "    <tr>\n",
       "      <th>339</th>\n",
       "      <td>2018-12-06</td>\n",
       "      <td>352</td>\n",
       "      <td>12</td>\n",
       "      <td>&lt;bound method Series.reset_index of month\\n01 ...</td>\n",
       "    </tr>\n",
       "    <tr>\n",
       "      <th>340</th>\n",
       "      <td>2018-12-07</td>\n",
       "      <td>322</td>\n",
       "      <td>12</td>\n",
       "      <td>&lt;bound method Series.reset_index of month\\n01 ...</td>\n",
       "    </tr>\n",
       "    <tr>\n",
       "      <th>341</th>\n",
       "      <td>2018-12-08</td>\n",
       "      <td>336</td>\n",
       "      <td>12</td>\n",
       "      <td>&lt;bound method Series.reset_index of month\\n01 ...</td>\n",
       "    </tr>\n",
       "  </tbody>\n",
       "</table>\n",
       "<p>342 rows × 4 columns</p>\n",
       "</div>"
      ],
      "text/plain": [
       "         dates  units_sold  month  \\\n",
       "0   2018-01-01         147      1   \n",
       "1   2018-01-02         342      1   \n",
       "2   2018-01-03         380      1   \n",
       "3   2018-01-04         292      1   \n",
       "4   2018-01-05         114      1   \n",
       "..         ...         ...    ...   \n",
       "337 2018-12-04         196     12   \n",
       "338 2018-12-05         504     12   \n",
       "339 2018-12-06         352     12   \n",
       "340 2018-12-07         322     12   \n",
       "341 2018-12-08         336     12   \n",
       "\n",
       "                                         average_sales  \n",
       "0    <bound method Series.reset_index of month\\n01 ...  \n",
       "1    <bound method Series.reset_index of month\\n01 ...  \n",
       "2    <bound method Series.reset_index of month\\n01 ...  \n",
       "3    <bound method Series.reset_index of month\\n01 ...  \n",
       "4    <bound method Series.reset_index of month\\n01 ...  \n",
       "..                                                 ...  \n",
       "337  <bound method Series.reset_index of month\\n01 ...  \n",
       "338  <bound method Series.reset_index of month\\n01 ...  \n",
       "339  <bound method Series.reset_index of month\\n01 ...  \n",
       "340  <bound method Series.reset_index of month\\n01 ...  \n",
       "341  <bound method Series.reset_index of month\\n01 ...  \n",
       "\n",
       "[342 rows x 4 columns]"
      ]
     },
     "execution_count": 24,
     "metadata": {},
     "output_type": "execute_result"
    }
   ],
   "source": [
    "df"
   ]
  },
  {
   "cell_type": "code",
   "execution_count": 27,
   "id": "ba932a9c",
   "metadata": {},
   "outputs": [
    {
     "name": "stdout",
     "output_type": "stream",
     "text": [
      "    month  units_sold\n",
      "0       1      257.06\n",
      "1       2      217.86\n",
      "2       3      266.00\n",
      "3       4      268.63\n",
      "4       5      279.55\n",
      "5       6      262.30\n",
      "6       7      293.06\n",
      "7       8      246.45\n",
      "8       9      234.07\n",
      "9      10      242.87\n",
      "10     11      225.40\n",
      "11     12      338.88\n"
     ]
    }
   ],
   "source": [
    "#Construct a feature consisting of average sales for each month\n",
    "ans = df.groupby('month')['units_sold'].mean().reset_index().round(2)\n",
    "print(ans)"
   ]
  },
  {
   "cell_type": "code",
   "execution_count": 26,
   "id": "e5f47a78",
   "metadata": {},
   "outputs": [
    {
     "name": "stdout",
     "output_type": "stream",
     "text": [
      "    month  average_sales\n",
      "0       1         257.06\n",
      "1       2         217.86\n",
      "2       3         266.00\n",
      "3       4         268.63\n",
      "4       5         279.55\n",
      "5       6         262.30\n",
      "6       7         293.06\n",
      "7       8         246.45\n",
      "8       9         234.07\n",
      "9      10         242.87\n",
      "10     11         225.40\n",
      "11     12         338.88\n"
     ]
    }
   ],
   "source": [
    "\n",
    "\n",
    "#engineer a feature consisting of the number of month for each observation\n",
    "df['month'] = df['dates'].dt.month\n",
    "\n",
    "#Construct a feature consisting of average sales for each month\n",
    "df['average_sales'] = df.groupby(['month'])['units_sold'].transform('mean').round(2)\n",
    "\n",
    "#retrieving all the months and average sales from the data\n",
    "ans = df[['month', 'average_sales']].drop_duplicates()\n",
    "\n",
    "#Reset the index of ans dataframe\n",
    "ans.reset_index(drop=True,inplace=True)\n",
    "\n",
    "print(ans)"
   ]
  },
  {
   "cell_type": "code",
   "execution_count": null,
   "id": "166f7f44",
   "metadata": {},
   "outputs": [],
   "source": []
  },
  {
   "cell_type": "code",
   "execution_count": 28,
   "id": "4d5a675e",
   "metadata": {},
   "outputs": [],
   "source": [
    "Start_station = ['Broad St', '66 St-Lincoln Center', '86th St', 'Times Sq - 42 St', '86th St', 'Bowery', '66 St-Lincoln Center', '66 St-Lincoln Center', '14 St / 8 Av', 'Times Sq - 42 St']\n",
    "End_station = ['14 St / 8 Av', 'Bowery', 'Bowery', '66 St-Lincoln Center', '66 St-Lincoln Center', 'Broad St', 'Broad St', 'Broad St', '14 St / 8 Av', 'Times Sq - 42 St']\n",
    "Duration = [0.12, 1.94, 2.47, 1.53, 2.76, 1.93, 0.33, 0.94, 2.71, 1.39]"
   ]
  },
  {
   "cell_type": "code",
   "execution_count": 31,
   "id": "b397a70f",
   "metadata": {},
   "outputs": [],
   "source": [
    "df2 = pd.DataFrame({'start_st':Start_station,'end_st':End_station,'Duration':Duration})"
   ]
  },
  {
   "cell_type": "code",
   "execution_count": 32,
   "id": "f876f515",
   "metadata": {},
   "outputs": [
    {
     "data": {
      "text/html": [
       "<div>\n",
       "<style scoped>\n",
       "    .dataframe tbody tr th:only-of-type {\n",
       "        vertical-align: middle;\n",
       "    }\n",
       "\n",
       "    .dataframe tbody tr th {\n",
       "        vertical-align: top;\n",
       "    }\n",
       "\n",
       "    .dataframe thead th {\n",
       "        text-align: right;\n",
       "    }\n",
       "</style>\n",
       "<table border=\"1\" class=\"dataframe\">\n",
       "  <thead>\n",
       "    <tr style=\"text-align: right;\">\n",
       "      <th></th>\n",
       "      <th>start_st</th>\n",
       "      <th>end_st</th>\n",
       "      <th>Duration</th>\n",
       "    </tr>\n",
       "  </thead>\n",
       "  <tbody>\n",
       "    <tr>\n",
       "      <th>0</th>\n",
       "      <td>Broad St</td>\n",
       "      <td>14 St / 8 Av</td>\n",
       "      <td>0.12</td>\n",
       "    </tr>\n",
       "    <tr>\n",
       "      <th>1</th>\n",
       "      <td>66 St-Lincoln Center</td>\n",
       "      <td>Bowery</td>\n",
       "      <td>1.94</td>\n",
       "    </tr>\n",
       "    <tr>\n",
       "      <th>2</th>\n",
       "      <td>86th St</td>\n",
       "      <td>Bowery</td>\n",
       "      <td>2.47</td>\n",
       "    </tr>\n",
       "    <tr>\n",
       "      <th>3</th>\n",
       "      <td>Times Sq - 42 St</td>\n",
       "      <td>66 St-Lincoln Center</td>\n",
       "      <td>1.53</td>\n",
       "    </tr>\n",
       "    <tr>\n",
       "      <th>4</th>\n",
       "      <td>86th St</td>\n",
       "      <td>66 St-Lincoln Center</td>\n",
       "      <td>2.76</td>\n",
       "    </tr>\n",
       "    <tr>\n",
       "      <th>5</th>\n",
       "      <td>Bowery</td>\n",
       "      <td>Broad St</td>\n",
       "      <td>1.93</td>\n",
       "    </tr>\n",
       "    <tr>\n",
       "      <th>6</th>\n",
       "      <td>66 St-Lincoln Center</td>\n",
       "      <td>Broad St</td>\n",
       "      <td>0.33</td>\n",
       "    </tr>\n",
       "    <tr>\n",
       "      <th>7</th>\n",
       "      <td>66 St-Lincoln Center</td>\n",
       "      <td>Broad St</td>\n",
       "      <td>0.94</td>\n",
       "    </tr>\n",
       "    <tr>\n",
       "      <th>8</th>\n",
       "      <td>14 St / 8 Av</td>\n",
       "      <td>14 St / 8 Av</td>\n",
       "      <td>2.71</td>\n",
       "    </tr>\n",
       "    <tr>\n",
       "      <th>9</th>\n",
       "      <td>Times Sq - 42 St</td>\n",
       "      <td>Times Sq - 42 St</td>\n",
       "      <td>1.39</td>\n",
       "    </tr>\n",
       "  </tbody>\n",
       "</table>\n",
       "</div>"
      ],
      "text/plain": [
       "               start_st                end_st  Duration\n",
       "0              Broad St          14 St / 8 Av      0.12\n",
       "1  66 St-Lincoln Center                Bowery      1.94\n",
       "2               86th St                Bowery      2.47\n",
       "3      Times Sq - 42 St  66 St-Lincoln Center      1.53\n",
       "4               86th St  66 St-Lincoln Center      2.76\n",
       "5                Bowery              Broad St      1.93\n",
       "6  66 St-Lincoln Center              Broad St      0.33\n",
       "7  66 St-Lincoln Center              Broad St      0.94\n",
       "8          14 St / 8 Av          14 St / 8 Av      2.71\n",
       "9      Times Sq - 42 St      Times Sq - 42 St      1.39"
      ]
     },
     "execution_count": 32,
     "metadata": {},
     "output_type": "execute_result"
    }
   ],
   "source": [
    "df2"
   ]
  },
  {
   "cell_type": "code",
   "execution_count": 34,
   "id": "c3f97b88",
   "metadata": {},
   "outputs": [],
   "source": [
    "rides = (df2['start_st']==df2['end_st'])"
   ]
  },
  {
   "cell_type": "code",
   "execution_count": 36,
   "id": "222aaa8c",
   "metadata": {},
   "outputs": [
    {
     "data": {
      "text/plain": [
       "2.05"
      ]
     },
     "execution_count": 36,
     "metadata": {},
     "output_type": "execute_result"
    }
   ],
   "source": [
    "df2[rides]['Duration'].median()"
   ]
  },
  {
   "cell_type": "code",
   "execution_count": null,
   "id": "500e04f9",
   "metadata": {},
   "outputs": [],
   "source": []
  },
  {
   "cell_type": "code",
   "execution_count": 40,
   "id": "24d60418",
   "metadata": {},
   "outputs": [],
   "source": [
    "import numpy as np\n",
    "df = {'date':['2018-01-01', '2018-01-02', '2018-01-03', '2018-01-04', '2018-01-05', '2018-01-06'], 'units_sold':[6519.0, 6654.0, 7332.0, np.nan, 7211.0, 6882.0]}\n",
    "window_size = 3"
   ]
  },
  {
   "cell_type": "code",
   "execution_count": 45,
   "id": "563216f0",
   "metadata": {},
   "outputs": [],
   "source": [
    "df = pd.DataFrame(df)"
   ]
  },
  {
   "cell_type": "code",
   "execution_count": 46,
   "id": "fb6315a4",
   "metadata": {},
   "outputs": [
    {
     "data": {
      "text/html": [
       "<div>\n",
       "<style scoped>\n",
       "    .dataframe tbody tr th:only-of-type {\n",
       "        vertical-align: middle;\n",
       "    }\n",
       "\n",
       "    .dataframe tbody tr th {\n",
       "        vertical-align: top;\n",
       "    }\n",
       "\n",
       "    .dataframe thead th {\n",
       "        text-align: right;\n",
       "    }\n",
       "</style>\n",
       "<table border=\"1\" class=\"dataframe\">\n",
       "  <thead>\n",
       "    <tr style=\"text-align: right;\">\n",
       "      <th></th>\n",
       "      <th>date</th>\n",
       "      <th>units_sold</th>\n",
       "    </tr>\n",
       "  </thead>\n",
       "  <tbody>\n",
       "    <tr>\n",
       "      <th>0</th>\n",
       "      <td>2018-01-01</td>\n",
       "      <td>6519.0</td>\n",
       "    </tr>\n",
       "    <tr>\n",
       "      <th>1</th>\n",
       "      <td>2018-01-02</td>\n",
       "      <td>6654.0</td>\n",
       "    </tr>\n",
       "    <tr>\n",
       "      <th>2</th>\n",
       "      <td>2018-01-03</td>\n",
       "      <td>7332.0</td>\n",
       "    </tr>\n",
       "    <tr>\n",
       "      <th>3</th>\n",
       "      <td>2018-01-04</td>\n",
       "      <td>NaN</td>\n",
       "    </tr>\n",
       "    <tr>\n",
       "      <th>4</th>\n",
       "      <td>2018-01-05</td>\n",
       "      <td>7211.0</td>\n",
       "    </tr>\n",
       "    <tr>\n",
       "      <th>5</th>\n",
       "      <td>2018-01-06</td>\n",
       "      <td>6882.0</td>\n",
       "    </tr>\n",
       "  </tbody>\n",
       "</table>\n",
       "</div>"
      ],
      "text/plain": [
       "         date  units_sold\n",
       "0  2018-01-01      6519.0\n",
       "1  2018-01-02      6654.0\n",
       "2  2018-01-03      7332.0\n",
       "3  2018-01-04         NaN\n",
       "4  2018-01-05      7211.0\n",
       "5  2018-01-06      6882.0"
      ]
     },
     "execution_count": 46,
     "metadata": {},
     "output_type": "execute_result"
    }
   ],
   "source": [
    "df"
   ]
  },
  {
   "cell_type": "code",
   "execution_count": 62,
   "id": "42edf277",
   "metadata": {},
   "outputs": [],
   "source": [
    "df['units_sold'] = df['units_sold'].fillna(df['units_sold'].rolling(window=window_size+1, min_periods=1).mean())\n"
   ]
  },
  {
   "cell_type": "code",
   "execution_count": 63,
   "id": "d702cd1f",
   "metadata": {},
   "outputs": [
    {
     "data": {
      "text/html": [
       "<div>\n",
       "<style scoped>\n",
       "    .dataframe tbody tr th:only-of-type {\n",
       "        vertical-align: middle;\n",
       "    }\n",
       "\n",
       "    .dataframe tbody tr th {\n",
       "        vertical-align: top;\n",
       "    }\n",
       "\n",
       "    .dataframe thead th {\n",
       "        text-align: right;\n",
       "    }\n",
       "</style>\n",
       "<table border=\"1\" class=\"dataframe\">\n",
       "  <thead>\n",
       "    <tr style=\"text-align: right;\">\n",
       "      <th></th>\n",
       "      <th>date</th>\n",
       "      <th>units_sold</th>\n",
       "    </tr>\n",
       "  </thead>\n",
       "  <tbody>\n",
       "    <tr>\n",
       "      <th>0</th>\n",
       "      <td>2018-01-01</td>\n",
       "      <td>6519.0</td>\n",
       "    </tr>\n",
       "    <tr>\n",
       "      <th>1</th>\n",
       "      <td>2018-01-02</td>\n",
       "      <td>6654.0</td>\n",
       "    </tr>\n",
       "    <tr>\n",
       "      <th>2</th>\n",
       "      <td>2018-01-03</td>\n",
       "      <td>7332.0</td>\n",
       "    </tr>\n",
       "    <tr>\n",
       "      <th>3</th>\n",
       "      <td>2018-01-04</td>\n",
       "      <td>6835.0</td>\n",
       "    </tr>\n",
       "    <tr>\n",
       "      <th>4</th>\n",
       "      <td>2018-01-05</td>\n",
       "      <td>7211.0</td>\n",
       "    </tr>\n",
       "    <tr>\n",
       "      <th>5</th>\n",
       "      <td>2018-01-06</td>\n",
       "      <td>6882.0</td>\n",
       "    </tr>\n",
       "  </tbody>\n",
       "</table>\n",
       "</div>"
      ],
      "text/plain": [
       "         date  units_sold\n",
       "0  2018-01-01      6519.0\n",
       "1  2018-01-02      6654.0\n",
       "2  2018-01-03      7332.0\n",
       "3  2018-01-04      6835.0\n",
       "4  2018-01-05      7211.0\n",
       "5  2018-01-06      6882.0"
      ]
     },
     "execution_count": 63,
     "metadata": {},
     "output_type": "execute_result"
    }
   ],
   "source": [
    "df"
   ]
  },
  {
   "cell_type": "code",
   "execution_count": null,
   "id": "1897e17b",
   "metadata": {},
   "outputs": [],
   "source": []
  }
 ],
 "metadata": {
  "kernelspec": {
   "display_name": "Python 3 (ipykernel)",
   "language": "python",
   "name": "python3"
  },
  "language_info": {
   "codemirror_mode": {
    "name": "ipython",
    "version": 3
   },
   "file_extension": ".py",
   "mimetype": "text/x-python",
   "name": "python",
   "nbconvert_exporter": "python",
   "pygments_lexer": "ipython3",
   "version": "3.9.12"
  }
 },
 "nbformat": 4,
 "nbformat_minor": 5
}
